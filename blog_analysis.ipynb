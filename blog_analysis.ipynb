{
 "cells": [
  {
   "cell_type": "code",
   "execution_count": 10,
   "outputs": [],
   "source": [
    "import pandas as pd\n",
    "\n",
    "def read_post(path):\n",
    "    with open(path) as f:\n",
    "        contents = f.readlines()\n",
    "    return ''.join(contents)\n",
    "\n",
    "post = read_post(\"../soonernotfaster/content/posts/mocking-functions-in-elixir-with-exdoubles.md\")"
   ],
   "metadata": {
    "collapsed": false,
    "pycharm": {
     "name": "#%%\n"
    }
   }
  },
  {
   "cell_type": "code",
   "execution_count": 3,
   "outputs": [
    {
     "ename": "TypeError",
     "evalue": "<module '__main__'> is a built-in module",
     "output_type": "error",
     "traceback": [
      "\u001B[0;31m---------------------------------------------------------------------------\u001B[0m",
      "\u001B[0;31mTypeError\u001B[0m                                 Traceback (most recent call last)",
      "Input \u001B[0;32mIn [3]\u001B[0m, in \u001B[0;36m<cell line: 24>\u001B[0;34m()\u001B[0m\n\u001B[1;32m     21\u001B[0m     \u001B[38;5;28mprint\u001B[39m(\u001B[38;5;124mf\u001B[39m\u001B[38;5;124m'\u001B[39m\u001B[38;5;124mIllegal character \u001B[39m\u001B[38;5;132;01m{\u001B[39;00mt\u001B[38;5;241m.\u001B[39mvalue[\u001B[38;5;241m0\u001B[39m]\u001B[38;5;132;01m!r}\u001B[39;00m\u001B[38;5;124m'\u001B[39m)\n\u001B[1;32m     22\u001B[0m     t\u001B[38;5;241m.\u001B[39mlexer\u001B[38;5;241m.\u001B[39mskip(\u001B[38;5;241m1\u001B[39m)\n\u001B[0;32m---> 24\u001B[0m lexor \u001B[38;5;241m=\u001B[39m \u001B[43mlex\u001B[49m\u001B[43m(\u001B[49m\u001B[43m)\u001B[49m\n\u001B[1;32m     26\u001B[0m lexor\n",
      "File \u001B[0;32m~/.local/share/virtualenvs/dataschool-0x2LhBwI/lib/python3.9/site-packages/ply/lex.py:908\u001B[0m, in \u001B[0;36mlex\u001B[0;34m(module, object, debug, optimize, lextab, reflags, nowarn, outputdir, debuglog, errorlog)\u001B[0m\n\u001B[1;32m    906\u001B[0m linfo\u001B[38;5;241m.\u001B[39mget_all()\n\u001B[1;32m    907\u001B[0m \u001B[38;5;28;01mif\u001B[39;00m \u001B[38;5;129;01mnot\u001B[39;00m optimize:\n\u001B[0;32m--> 908\u001B[0m     \u001B[38;5;28;01mif\u001B[39;00m \u001B[43mlinfo\u001B[49m\u001B[38;5;241;43m.\u001B[39;49m\u001B[43mvalidate_all\u001B[49m\u001B[43m(\u001B[49m\u001B[43m)\u001B[49m:\n\u001B[1;32m    909\u001B[0m         \u001B[38;5;28;01mraise\u001B[39;00m \u001B[38;5;167;01mSyntaxError\u001B[39;00m(\u001B[38;5;124m\"\u001B[39m\u001B[38;5;124mCan\u001B[39m\u001B[38;5;124m'\u001B[39m\u001B[38;5;124mt build lexer\u001B[39m\u001B[38;5;124m\"\u001B[39m)\n\u001B[1;32m    911\u001B[0m \u001B[38;5;28;01mif\u001B[39;00m optimize \u001B[38;5;129;01mand\u001B[39;00m lextab:\n",
      "File \u001B[0;32m~/.local/share/virtualenvs/dataschool-0x2LhBwI/lib/python3.9/site-packages/ply/lex.py:579\u001B[0m, in \u001B[0;36mLexerReflect.validate_all\u001B[0;34m(self)\u001B[0m\n\u001B[1;32m    577\u001B[0m \u001B[38;5;28mself\u001B[39m\u001B[38;5;241m.\u001B[39mvalidate_tokens()\n\u001B[1;32m    578\u001B[0m \u001B[38;5;28mself\u001B[39m\u001B[38;5;241m.\u001B[39mvalidate_literals()\n\u001B[0;32m--> 579\u001B[0m \u001B[38;5;28;43mself\u001B[39;49m\u001B[38;5;241;43m.\u001B[39;49m\u001B[43mvalidate_rules\u001B[49m\u001B[43m(\u001B[49m\u001B[43m)\u001B[49m\n\u001B[1;32m    580\u001B[0m \u001B[38;5;28;01mreturn\u001B[39;00m \u001B[38;5;28mself\u001B[39m\u001B[38;5;241m.\u001B[39merror\n",
      "File \u001B[0;32m~/.local/share/virtualenvs/dataschool-0x2LhBwI/lib/python3.9/site-packages/ply/lex.py:821\u001B[0m, in \u001B[0;36mLexerReflect.validate_rules\u001B[0;34m(self)\u001B[0m\n\u001B[1;32m    818\u001B[0m             \u001B[38;5;28mself\u001B[39m\u001B[38;5;241m.\u001B[39merror \u001B[38;5;241m=\u001B[39m \u001B[38;5;28;01mTrue\u001B[39;00m\n\u001B[1;32m    820\u001B[0m \u001B[38;5;28;01mfor\u001B[39;00m module \u001B[38;5;129;01min\u001B[39;00m \u001B[38;5;28mself\u001B[39m\u001B[38;5;241m.\u001B[39mmodules:\n\u001B[0;32m--> 821\u001B[0m     \u001B[38;5;28;43mself\u001B[39;49m\u001B[38;5;241;43m.\u001B[39;49m\u001B[43mvalidate_module\u001B[49m\u001B[43m(\u001B[49m\u001B[43mmodule\u001B[49m\u001B[43m)\u001B[49m\n",
      "File \u001B[0;32m~/.local/share/virtualenvs/dataschool-0x2LhBwI/lib/python3.9/site-packages/ply/lex.py:833\u001B[0m, in \u001B[0;36mLexerReflect.validate_module\u001B[0;34m(self, module)\u001B[0m\n\u001B[1;32m    831\u001B[0m \u001B[38;5;28;01mdef\u001B[39;00m \u001B[38;5;21mvalidate_module\u001B[39m(\u001B[38;5;28mself\u001B[39m, module):\n\u001B[1;32m    832\u001B[0m     \u001B[38;5;28;01mtry\u001B[39;00m:\n\u001B[0;32m--> 833\u001B[0m         lines, linen \u001B[38;5;241m=\u001B[39m \u001B[43minspect\u001B[49m\u001B[38;5;241;43m.\u001B[39;49m\u001B[43mgetsourcelines\u001B[49m\u001B[43m(\u001B[49m\u001B[43mmodule\u001B[49m\u001B[43m)\u001B[49m\n\u001B[1;32m    834\u001B[0m     \u001B[38;5;28;01mexcept\u001B[39;00m \u001B[38;5;167;01mIOError\u001B[39;00m:\n\u001B[1;32m    835\u001B[0m         \u001B[38;5;28;01mreturn\u001B[39;00m\n",
      "File \u001B[0;32m/usr/local/Cellar/python@3.9/3.9.12/Frameworks/Python.framework/Versions/3.9/lib/python3.9/inspect.py:1006\u001B[0m, in \u001B[0;36mgetsourcelines\u001B[0;34m(object)\u001B[0m\n\u001B[1;32m    998\u001B[0m \u001B[38;5;124;03m\"\"\"Return a list of source lines and starting line number for an object.\u001B[39;00m\n\u001B[1;32m    999\u001B[0m \n\u001B[1;32m   1000\u001B[0m \u001B[38;5;124;03mThe argument may be a module, class, method, function, traceback, frame,\u001B[39;00m\n\u001B[0;32m   (...)\u001B[0m\n\u001B[1;32m   1003\u001B[0m \u001B[38;5;124;03moriginal source file the first line of code was found.  An OSError is\u001B[39;00m\n\u001B[1;32m   1004\u001B[0m \u001B[38;5;124;03mraised if the source code cannot be retrieved.\"\"\"\u001B[39;00m\n\u001B[1;32m   1005\u001B[0m \u001B[38;5;28mobject\u001B[39m \u001B[38;5;241m=\u001B[39m unwrap(\u001B[38;5;28mobject\u001B[39m)\n\u001B[0;32m-> 1006\u001B[0m lines, lnum \u001B[38;5;241m=\u001B[39m \u001B[43mfindsource\u001B[49m\u001B[43m(\u001B[49m\u001B[38;5;28;43mobject\u001B[39;49m\u001B[43m)\u001B[49m\n\u001B[1;32m   1008\u001B[0m \u001B[38;5;28;01mif\u001B[39;00m istraceback(\u001B[38;5;28mobject\u001B[39m):\n\u001B[1;32m   1009\u001B[0m     \u001B[38;5;28mobject\u001B[39m \u001B[38;5;241m=\u001B[39m \u001B[38;5;28mobject\u001B[39m\u001B[38;5;241m.\u001B[39mtb_frame\n",
      "File \u001B[0;32m/usr/local/Cellar/python@3.9/3.9.12/Frameworks/Python.framework/Versions/3.9/lib/python3.9/inspect.py:817\u001B[0m, in \u001B[0;36mfindsource\u001B[0;34m(object)\u001B[0m\n\u001B[1;32m    809\u001B[0m \u001B[38;5;28;01mdef\u001B[39;00m \u001B[38;5;21mfindsource\u001B[39m(\u001B[38;5;28mobject\u001B[39m):\n\u001B[1;32m    810\u001B[0m     \u001B[38;5;124;03m\"\"\"Return the entire source file and starting line number for an object.\u001B[39;00m\n\u001B[1;32m    811\u001B[0m \n\u001B[1;32m    812\u001B[0m \u001B[38;5;124;03m    The argument may be a module, class, method, function, traceback, frame,\u001B[39;00m\n\u001B[1;32m    813\u001B[0m \u001B[38;5;124;03m    or code object.  The source code is returned as a list of all the lines\u001B[39;00m\n\u001B[1;32m    814\u001B[0m \u001B[38;5;124;03m    in the file and the line number indexes a line in that list.  An OSError\u001B[39;00m\n\u001B[1;32m    815\u001B[0m \u001B[38;5;124;03m    is raised if the source code cannot be retrieved.\"\"\"\u001B[39;00m\n\u001B[0;32m--> 817\u001B[0m     file \u001B[38;5;241m=\u001B[39m \u001B[43mgetsourcefile\u001B[49m\u001B[43m(\u001B[49m\u001B[38;5;28;43mobject\u001B[39;49m\u001B[43m)\u001B[49m\n\u001B[1;32m    818\u001B[0m     \u001B[38;5;28;01mif\u001B[39;00m file:\n\u001B[1;32m    819\u001B[0m         \u001B[38;5;66;03m# Invalidate cache if needed.\u001B[39;00m\n\u001B[1;32m    820\u001B[0m         linecache\u001B[38;5;241m.\u001B[39mcheckcache(file)\n",
      "File \u001B[0;32m/usr/local/Cellar/python@3.9/3.9.12/Frameworks/Python.framework/Versions/3.9/lib/python3.9/inspect.py:697\u001B[0m, in \u001B[0;36mgetsourcefile\u001B[0;34m(object)\u001B[0m\n\u001B[1;32m    693\u001B[0m \u001B[38;5;28;01mdef\u001B[39;00m \u001B[38;5;21mgetsourcefile\u001B[39m(\u001B[38;5;28mobject\u001B[39m):\n\u001B[1;32m    694\u001B[0m     \u001B[38;5;124;03m\"\"\"Return the filename that can be used to locate an object's source.\u001B[39;00m\n\u001B[1;32m    695\u001B[0m \u001B[38;5;124;03m    Return None if no way can be identified to get the source.\u001B[39;00m\n\u001B[1;32m    696\u001B[0m \u001B[38;5;124;03m    \"\"\"\u001B[39;00m\n\u001B[0;32m--> 697\u001B[0m     filename \u001B[38;5;241m=\u001B[39m \u001B[43mgetfile\u001B[49m\u001B[43m(\u001B[49m\u001B[38;5;28;43mobject\u001B[39;49m\u001B[43m)\u001B[49m\n\u001B[1;32m    698\u001B[0m     all_bytecode_suffixes \u001B[38;5;241m=\u001B[39m importlib\u001B[38;5;241m.\u001B[39mmachinery\u001B[38;5;241m.\u001B[39mDEBUG_BYTECODE_SUFFIXES[:]\n\u001B[1;32m    699\u001B[0m     all_bytecode_suffixes \u001B[38;5;241m+\u001B[39m\u001B[38;5;241m=\u001B[39m importlib\u001B[38;5;241m.\u001B[39mmachinery\u001B[38;5;241m.\u001B[39mOPTIMIZED_BYTECODE_SUFFIXES[:]\n",
      "File \u001B[0;32m/usr/local/Cellar/python@3.9/3.9.12/Frameworks/Python.framework/Versions/3.9/lib/python3.9/inspect.py:660\u001B[0m, in \u001B[0;36mgetfile\u001B[0;34m(object)\u001B[0m\n\u001B[1;32m    658\u001B[0m     \u001B[38;5;28;01mif\u001B[39;00m \u001B[38;5;28mgetattr\u001B[39m(\u001B[38;5;28mobject\u001B[39m, \u001B[38;5;124m'\u001B[39m\u001B[38;5;124m__file__\u001B[39m\u001B[38;5;124m'\u001B[39m, \u001B[38;5;28;01mNone\u001B[39;00m):\n\u001B[1;32m    659\u001B[0m         \u001B[38;5;28;01mreturn\u001B[39;00m \u001B[38;5;28mobject\u001B[39m\u001B[38;5;241m.\u001B[39m\u001B[38;5;18m__file__\u001B[39m\n\u001B[0;32m--> 660\u001B[0m     \u001B[38;5;28;01mraise\u001B[39;00m \u001B[38;5;167;01mTypeError\u001B[39;00m(\u001B[38;5;124m'\u001B[39m\u001B[38;5;132;01m{!r}\u001B[39;00m\u001B[38;5;124m is a built-in module\u001B[39m\u001B[38;5;124m'\u001B[39m\u001B[38;5;241m.\u001B[39mformat(\u001B[38;5;28mobject\u001B[39m))\n\u001B[1;32m    661\u001B[0m \u001B[38;5;28;01mif\u001B[39;00m isclass(\u001B[38;5;28mobject\u001B[39m):\n\u001B[1;32m    662\u001B[0m     \u001B[38;5;28;01mif\u001B[39;00m \u001B[38;5;28mhasattr\u001B[39m(\u001B[38;5;28mobject\u001B[39m, \u001B[38;5;124m'\u001B[39m\u001B[38;5;124m__module__\u001B[39m\u001B[38;5;124m'\u001B[39m):\n",
      "\u001B[0;31mTypeError\u001B[0m: <module '__main__'> is a built-in module"
     ]
    }
   ],
   "source": [],
   "metadata": {
    "collapsed": false,
    "pycharm": {
     "name": "#%%\n"
    }
   }
  },
  {
   "cell_type": "code",
   "execution_count": null,
   "outputs": [],
   "source": [],
   "metadata": {
    "collapsed": false,
    "pycharm": {
     "name": "#%%\n"
    }
   }
  }
 ],
 "metadata": {
  "kernelspec": {
   "display_name": "Python 3",
   "language": "python",
   "name": "python3"
  },
  "language_info": {
   "codemirror_mode": {
    "name": "ipython",
    "version": 2
   },
   "file_extension": ".py",
   "mimetype": "text/x-python",
   "name": "python",
   "nbconvert_exporter": "python",
   "pygments_lexer": "ipython2",
   "version": "2.7.6"
  }
 },
 "nbformat": 4,
 "nbformat_minor": 0
}