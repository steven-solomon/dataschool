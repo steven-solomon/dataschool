{
 "cells": [
  {
   "cell_type": "code",
   "execution_count": 23,
   "outputs": [],
   "source": [
    "from utils import read_file\n",
    "\n",
    "\n",
    "file = read_file(\"/Users/steve/workspace/soonernotfaster/content/posts/writing-maybe-in-ruby-lessons-learned.md\")"
   ],
   "metadata": {
    "collapsed": false,
    "pycharm": {
     "name": "#%%\n"
    }
   }
  },
  {
   "cell_type": "code",
   "execution_count": 24,
   "outputs": [
    {
     "data": {
      "text/plain": "\" I built a [small framework](https://github.com/steven-solomon/maybe), which retaught me why it is important to understand a user’s problem, ship early and iterate. Yes, even for frameworks. It kicked off with a tweet, which expressed disdain for Ruby’s nil. The author yearned for a maybe implementation. Having just finished the Bowling Kata in Elm, a language which has a built-in Maybe type, I decided I could create a quick implementation. I didn't anticipate how long quick was… # The Design My first iteration was rather simple. I would model my implementation off of SmallTalk’s `ifTrue` and `ifFalse` methods. I let RubyMine generate a new Gem and I started writing tests. First I would monkey-patch Object with a method `maybe`, that would execute a block and return self. ```ruby Object.new.maybe { puts 'success' } # prints 'success' # returns #<Object:0x00007fc7290347e0> class Object   def maybe     yield     self   end end ``` With maybe returning itself, I could add another method `else`. Now I could call both methods in sequence. Soon I would allow client code to not know which type it received. ```ruby Object.new.maybe { puts 'success' }.else { puts 'false' } # prints 'success' # returns #<Object:0x00007fc7290347e0> class Object   ..   def else     self   end end ``` Now I would implement the corresponding behavior for `NilClass`. It would have the same methods but only execute the else block. I didn't have to return self as methods already return nil but default. ```ruby nil.maybe { puts 'success' }.else { puts 'false' } # prints 'false' # returns nil class NilClass   def maybe   end      def else     yield   end end ``` # Shipping Early I briefly celebrated my turn around time by walking to my favorite coffee shop and ordering a large coldbrew. When I returned to my apartment, I proudly tweeted out my GitHub link, and I thought I was done… Oh, was I wrong. What followed was a few hour back and forth as a real person attempted to use my “framework” for the first time. I relearned the lesson, **writing shareable code is hard.** # Incorrect Documentation The first thing I forgot to update was the default usage documentation that RubyMine generates. As I didn't do a proper Gem release, it’s recommendation to `bundle install maybe` resulted in another library from being pulled in. So, I updated the documentation and again thought I was finished. I also realized that it might be valuable to pass the Object instance into the maybe block so that methods could be called on it. ```ruby class Object    def maybe     yield self     self   end end ``` # Iterating A short time later, my single customer reported some unexpected behavior. He expected a `maybe/else` chain on an object instance to return the result of the `maybe` block and not the object. ```ruby 6.maybe { 7 }.else { 8 } # returns 6 # expected 7 ``` Well at least I had a test case. So I wrote a new test around the object, this time using both the maybe and else together. Due to the way some objects are frozen in ruby, I had to create a new `Else` class to contain the else behavior, returning the result of the `maybe` block and ignoring the else block. ```ruby class Else   def initialize(value)     @value = value   end   def else     @value   end end class Object   def maybe     Else.new(yield self)   end end ``` Finally, I had delivered some value. My customer could now use my makeshift framework as desired. Was it helpful, I’m not sure but this exchange *retaught* me a few things that I want to highlight for you. # Take time to understand the user’s problem Just because I am writing a framework doesn't mean that I shouldn’t take the time to understand what users want. Software engineers are people too. When I didn't take the time to understand the scenario I was solving, I created more problems. This isn’t to say that thinking harder could prevent future iterations, rather deep insights only come from shipping early and responding to feedback. # Ship it & Respond To Feedback **Software is never finished**, it is very important to listen to user pains and respond. Maybe the first prototype got them some way there, and they got stuck. Maybe they wouldn't actually use that in practice. Even in the best case, where you delivered value, the users probably want more. Shipping and listening to feedback is the best way to know. # Conclusion Building software is challenging. Even something as simple as 15 lines of code and 9 tests can require a lot of craft and thoughtfulness, less you make peoples’ lives worse. Hopefully you will learn from my failures and take the time to understand the problems customers are trying to solve, ship early and iterate. ### Special Thanks Thanks to [J.B Rainsberger](https://twitter.com/jbrains) for participating.  \""
     },
     "execution_count": 24,
     "metadata": {},
     "output_type": "execute_result"
    }
   ],
   "source": [
    "import re\n",
    "\n",
    "f = re.sub(\"\\n+\", \" \", file)\n",
    "f = re.sub(\"---.*---\", \"\", f)\n",
    "f = re.sub(\"{{< thank-you >}}\", \"\", f)\n",
    "f"
   ],
   "metadata": {
    "collapsed": false,
    "pycharm": {
     "name": "#%%\n"
    }
   }
  },
  {
   "cell_type": "code",
   "execution_count": 43,
   "outputs": [
    {
     "name": "stdout",
     "output_type": "stream",
     "text": [
      "number_of_code_blocks 6\n"
     ]
    }
   ],
   "source": [
    "CODE_BLOCK_PATTERN = r\"`{3}[^`]+`{3}\"\n",
    "number_of_code_blocks = re.findall(CODE_BLOCK_PATTERN, f)\n",
    "print(\"number_of_code_blocks\", len(number_of_code_blocks))"
   ],
   "metadata": {
    "collapsed": false,
    "pycharm": {
     "name": "#%%\n"
    }
   }
  },
  {
   "cell_type": "code",
   "execution_count": 44,
   "outputs": [
    {
     "data": {
      "text/plain": "\" I built a [small framework](https://github.com/steven-solomon/maybe), which retaught me why it is important to understand a user’s problem, ship early and iterate. Yes, even for frameworks. It kicked off with a tweet, which expressed disdain for Ruby’s nil. The author yearned for a maybe implementation. Having just finished the Bowling Kata in Elm, a language which has a built-in Maybe type, I decided I could create a quick implementation. I didn't anticipate how long quick was… # The Design My first iteration was rather simple. I would model my implementation off of SmallTalk’s `ifTrue` and `ifFalse` methods. I let RubyMine generate a new Gem and I started writing tests. First I would monkey-patch Object with a method `maybe`, that would execute a block and return self.  With maybe returning itself, I could add another method `else`. Now I could call both methods in sequence. Soon I would allow client code to not know which type it received.  Now I would implement the corresponding behavior for `NilClass`. It would have the same methods but only execute the else block. I didn't have to return self as methods already return nil but default.  # Shipping Early I briefly celebrated my turn around time by walking to my favorite coffee shop and ordering a large coldbrew. When I returned to my apartment, I proudly tweeted out my GitHub link, and I thought I was done… Oh, was I wrong. What followed was a few hour back and forth as a real person attempted to use my “framework” for the first time. I relearned the lesson, **writing shareable code is hard.** # Incorrect Documentation The first thing I forgot to update was the default usage documentation that RubyMine generates. As I didn't do a proper Gem release, it’s recommendation to `bundle install maybe` resulted in another library from being pulled in. So, I updated the documentation and again thought I was finished. I also realized that it might be valuable to pass the Object instance into the maybe block so that methods could be called on it.  # Iterating A short time later, my single customer reported some unexpected behavior. He expected a `maybe/else` chain on an object instance to return the result of the `maybe` block and not the object.  Well at least I had a test case. So I wrote a new test around the object, this time using both the maybe and else together. Due to the way some objects are frozen in ruby, I had to create a new `Else` class to contain the else behavior, returning the result of the `maybe` block and ignoring the else block.  Finally, I had delivered some value. My customer could now use my makeshift framework as desired. Was it helpful, I’m not sure but this exchange *retaught* me a few things that I want to highlight for you. # Take time to understand the user’s problem Just because I am writing a framework doesn't mean that I shouldn’t take the time to understand what users want. Software engineers are people too. When I didn't take the time to understand the scenario I was solving, I created more problems. This isn’t to say that thinking harder could prevent future iterations, rather deep insights only come from shipping early and responding to feedback. # Ship it & Respond To Feedback **Software is never finished**, it is very important to listen to user pains and respond. Maybe the first prototype got them some way there, and they got stuck. Maybe they wouldn't actually use that in practice. Even in the best case, where you delivered value, the users probably want more. Shipping and listening to feedback is the best way to know. # Conclusion Building software is challenging. Even something as simple as 15 lines of code and 9 tests can require a lot of craft and thoughtfulness, less you make peoples’ lives worse. Hopefully you will learn from my failures and take the time to understand the problems customers are trying to solve, ship early and iterate. ### Special Thanks Thanks to [J.B Rainsberger](https://twitter.com/jbrains) for participating.  \""
     },
     "execution_count": 44,
     "metadata": {},
     "output_type": "execute_result"
    }
   ],
   "source": [
    "f = re.sub(CODE_BLOCK_PATTERN, \"\", f)\n",
    "f"
   ],
   "metadata": {
    "collapsed": false,
    "pycharm": {
     "name": "#%%\n"
    }
   }
  },
  {
   "cell_type": "code",
   "execution_count": 47,
   "outputs": [
    {
     "name": "stdout",
     "output_type": "stream",
     "text": [
      "links 0\n"
     ]
    },
    {
     "data": {
      "text/plain": "\" I built a , which retaught me why it is important to understand a user’s problem, ship early and iterate. Yes, even for frameworks. It kicked off with a tweet, which expressed disdain for Ruby’s nil. The author yearned for a maybe implementation. Having just finished the Bowling Kata in Elm, a language which has a built-in Maybe type, I decided I could create a quick implementation. I didn't anticipate how long quick was… # The Design My first iteration was rather simple. I would model my implementation off of SmallTalk’s `ifTrue` and `ifFalse` methods. I let RubyMine generate a new Gem and I started writing tests. First I would monkey-patch Object with a method `maybe`, that would execute a block and return self.  With maybe returning itself, I could add another method `else`. Now I could call both methods in sequence. Soon I would allow client code to not know which type it received.  Now I would implement the corresponding behavior for `NilClass`. It would have the same methods but only execute the else block. I didn't have to return self as methods already return nil but default.  # Shipping Early I briefly celebrated my turn around time by walking to my favorite coffee shop and ordering a large coldbrew. When I returned to my apartment, I proudly tweeted out my GitHub link, and I thought I was done… Oh, was I wrong. What followed was a few hour back and forth as a real person attempted to use my “framework” for the first time. I relearned the lesson, **writing shareable code is hard.** # Incorrect Documentation The first thing I forgot to update was the default usage documentation that RubyMine generates. As I didn't do a proper Gem release, it’s recommendation to `bundle install maybe` resulted in another library from being pulled in. So, I updated the documentation and again thought I was finished. I also realized that it might be valuable to pass the Object instance into the maybe block so that methods could be called on it.  # Iterating A short time later, my single customer reported some unexpected behavior. He expected a `maybe/else` chain on an object instance to return the result of the `maybe` block and not the object.  Well at least I had a test case. So I wrote a new test around the object, this time using both the maybe and else together. Due to the way some objects are frozen in ruby, I had to create a new `Else` class to contain the else behavior, returning the result of the `maybe` block and ignoring the else block.  Finally, I had delivered some value. My customer could now use my makeshift framework as desired. Was it helpful, I’m not sure but this exchange *retaught* me a few things that I want to highlight for you. # Take time to understand the user’s problem Just because I am writing a framework doesn't mean that I shouldn’t take the time to understand what users want. Software engineers are people too. When I didn't take the time to understand the scenario I was solving, I created more problems. This isn’t to say that thinking harder could prevent future iterations, rather deep insights only come from shipping early and responding to feedback. # Ship it & Respond To Feedback **Software is never finished**, it is very important to listen to user pains and respond. Maybe the first prototype got them some way there, and they got stuck. Maybe they wouldn't actually use that in practice. Even in the best case, where you delivered value, the users probably want more. Shipping and listening to feedback is the best way to know. # Conclusion Building software is challenging. Even something as simple as 15 lines of code and 9 tests can require a lot of craft and thoughtfulness, less you make peoples’ lives worse. Hopefully you will learn from my failures and take the time to understand the problems customers are trying to solve, ship early and iterate. ### Special Thanks Thanks to  for participating.  \""
     },
     "execution_count": 47,
     "metadata": {},
     "output_type": "execute_result"
    }
   ],
   "source": [
    "LINK_PATTERN = r\"\\[[^\\[\\]]+\\]\\([^\\(\\)]+\\)\"\n",
    "links = re.findall(LINK_PATTERN, f)\n",
    "print(\"links\", len(links))\n",
    "f = re.sub(LINK_PATTERN, \"\", f)\n",
    "f"
   ],
   "metadata": {
    "collapsed": false,
    "pycharm": {
     "name": "#%%\n"
    }
   }
  },
  {
   "cell_type": "code",
   "execution_count": 76,
   "outputs": [
    {
     "name": "stdout",
     "output_type": "stream",
     "text": [
      "  (0, 295)\t0.06358826364343312\n",
      "  (0, 294)\t0.01589706591085828\n",
      "  (0, 293)\t0.01589706591085828\n",
      "  (0, 292)\t0.01589706591085828\n",
      "  (0, 291)\t0.01589706591085828\n",
      "  (0, 290)\t0.04769119773257484\n",
      "  (0, 289)\t0.01589706591085828\n",
      "  (0, 288)\t0.09538239546514968\n",
      "  (0, 287)\t0.01589706591085828\n",
      "  (0, 286)\t0.04769119773257484\n",
      "  (0, 285)\t0.01589706591085828\n",
      "  (0, 284)\t0.01589706591085828\n",
      "  (0, 283)\t0.06358826364343312\n",
      "  (0, 282)\t0.01589706591085828\n",
      "  (0, 281)\t0.03179413182171656\n",
      "  (0, 280)\t0.03179413182171656\n",
      "  (0, 279)\t0.01589706591085828\n",
      "  (0, 278)\t0.04769119773257484\n",
      "  (0, 277)\t0.1430735931977245\n",
      "  (0, 276)\t0.04769119773257484\n",
      "  (0, 275)\t0.01589706591085828\n",
      "  (0, 274)\t0.01589706591085828\n",
      "  (0, 273)\t0.03179413182171656\n",
      "  (0, 272)\t0.01589706591085828\n",
      "  (0, 271)\t0.01589706591085828\n",
      "  :\t:\n",
      "  (0, 24)\t0.03179413182171656\n",
      "  (0, 23)\t0.01589706591085828\n",
      "  (0, 22)\t0.04769119773257484\n",
      "  (0, 21)\t0.01589706591085828\n",
      "  (0, 20)\t0.03179413182171656\n",
      "  (0, 19)\t0.01589706591085828\n",
      "  (0, 18)\t0.01589706591085828\n",
      "  (0, 17)\t0.01589706591085828\n",
      "  (0, 16)\t0.01589706591085828\n",
      "  (0, 15)\t0.09538239546514968\n",
      "  (0, 14)\t0.03179413182171656\n",
      "  (0, 13)\t0.04769119773257484\n",
      "  (0, 12)\t0.01589706591085828\n",
      "  (0, 11)\t0.01589706591085828\n",
      "  (0, 10)\t0.03179413182171656\n",
      "  (0, 9)\t0.30204425230630727\n",
      "  (0, 8)\t0.01589706591085828\n",
      "  (0, 7)\t0.01589706591085828\n",
      "  (0, 6)\t0.01589706591085828\n",
      "  (0, 5)\t0.01589706591085828\n",
      "  (0, 4)\t0.01589706591085828\n",
      "  (0, 3)\t0.01589706591085828\n",
      "  (0, 2)\t0.01589706591085828\n",
      "  (0, 1)\t0.01589706591085828\n",
      "  (0, 0)\t0.01589706591085828\n"
     ]
    }
   ],
   "source": [
    "from sklearn.pipeline import Pipeline\n",
    "from sklearn.feature_extraction.text import CountVectorizer\n",
    "from sklearn.feature_extraction.text import TfidfTransformer\n",
    "\n",
    "pipe = Pipeline([\n",
    "    ('counter', CountVectorizer()),\n",
    "    ('tfidf', TfidfTransformer())\n",
    "])\n",
    "\n",
    "\n",
    "df = pipe.fit_transform([f])"
   ],
   "metadata": {
    "collapsed": false,
    "pycharm": {
     "name": "#%%\n"
    }
   }
  },
  {
   "cell_type": "code",
   "execution_count": null,
   "outputs": [],
   "source": [],
   "metadata": {
    "collapsed": false,
    "pycharm": {
     "name": "#%%\n"
    }
   }
  }
 ],
 "metadata": {
  "kernelspec": {
   "display_name": "Python 3",
   "language": "python",
   "name": "python3"
  },
  "language_info": {
   "codemirror_mode": {
    "name": "ipython",
    "version": 2
   },
   "file_extension": ".py",
   "mimetype": "text/x-python",
   "name": "python",
   "nbconvert_exporter": "python",
   "pygments_lexer": "ipython2",
   "version": "2.7.6"
  }
 },
 "nbformat": 4,
 "nbformat_minor": 0
}